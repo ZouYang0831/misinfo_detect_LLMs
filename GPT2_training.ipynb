{
 "cells": [
  {
   "cell_type": "code",
   "execution_count": 1,
   "id": "d13787a5-0d36-4d12-9d69-5832e2c6e566",
   "metadata": {},
   "outputs": [
    {
     "name": "stdout",
     "output_type": "stream",
     "text": [
      "There are 2 GPU(s) available.\n",
      "We will use the GPU: Tesla P100-PCIE-12GB\n"
     ]
    }
   ],
   "source": [
    "import torch\n",
    "\n",
    "# If there's a GPU available...\n",
    "if torch.cuda.is_available():\n",
    "\n",
    "    # Tell PyTorch to use the GPU.\n",
    "    device = torch.device(\"cuda\")\n",
    "\n",
    "    print('There are %d GPU(s) available.' % torch.cuda.device_count())\n",
    "\n",
    "    print('We will use the GPU:', torch.cuda.get_device_name(0))\n",
    "\n",
    "# If not...\n",
    "else:\n",
    "    print('No GPU available, using the CPU instead.')\n",
    "    device = torch.device(\"cpu\")"
   ]
  },
  {
   "cell_type": "code",
   "execution_count": 2,
   "id": "57a9d7c0-efb8-4ec7-a14f-f597a563bf7f",
   "metadata": {},
   "outputs": [],
   "source": [
    "# import pacakage\n",
    "import os\n",
    "import pandas as pd"
   ]
  },
  {
   "cell_type": "code",
   "execution_count": 3,
   "id": "2a3ecc6c-8e3a-492e-b069-0619f58afdfa",
   "metadata": {},
   "outputs": [
    {
     "name": "stdout",
     "output_type": "stream",
     "text": [
      "Number of training sentences: 10,240\n",
      "\n"
     ]
    },
    {
     "data": {
      "text/html": [
       "<div>\n",
       "<style scoped>\n",
       "    .dataframe tbody tr th:only-of-type {\n",
       "        vertical-align: middle;\n",
       "    }\n",
       "\n",
       "    .dataframe tbody tr th {\n",
       "        vertical-align: top;\n",
       "    }\n",
       "\n",
       "    .dataframe thead th {\n",
       "        text-align: right;\n",
       "    }\n",
       "</style>\n",
       "<table border=\"1\" class=\"dataframe\">\n",
       "  <thead>\n",
       "    <tr style=\"text-align: right;\">\n",
       "      <th></th>\n",
       "      <th>json</th>\n",
       "      <th>label</th>\n",
       "      <th>headline</th>\n",
       "      <th>subject</th>\n",
       "      <th>speaker</th>\n",
       "      <th>speaker_title</th>\n",
       "      <th>state_info</th>\n",
       "      <th>party_affiliation</th>\n",
       "      <th>barely true counts</th>\n",
       "      <th>false counts</th>\n",
       "      <th>half true counts</th>\n",
       "      <th>mostly true counts</th>\n",
       "    </tr>\n",
       "  </thead>\n",
       "  <tbody>\n",
       "    <tr>\n",
       "      <th>3504</th>\n",
       "      <td>4038.json</td>\n",
       "      <td>false</td>\n",
       "      <td>Georgias illegal immigration crackdown laws sh...</td>\n",
       "      <td>history,immigration</td>\n",
       "      <td>robert-brown</td>\n",
       "      <td>state senator</td>\n",
       "      <td>Georgia</td>\n",
       "      <td>democrat</td>\n",
       "      <td>1.0</td>\n",
       "      <td>1.0</td>\n",
       "      <td>0.0</td>\n",
       "      <td>0.0</td>\n",
       "    </tr>\n",
       "    <tr>\n",
       "      <th>4756</th>\n",
       "      <td>5880.json</td>\n",
       "      <td>true</td>\n",
       "      <td>Says Austin Mayor Lee Leffingwell voted for a ...</td>\n",
       "      <td>transportation</td>\n",
       "      <td>brigid-shea</td>\n",
       "      <td>Principal, Carbon Shrinks LLC</td>\n",
       "      <td>Texas</td>\n",
       "      <td>democrat</td>\n",
       "      <td>0.0</td>\n",
       "      <td>0.0</td>\n",
       "      <td>1.0</td>\n",
       "      <td>1.0</td>\n",
       "    </tr>\n",
       "    <tr>\n",
       "      <th>10227</th>\n",
       "      <td>13344.json</td>\n",
       "      <td>pants-fire</td>\n",
       "      <td>Recently though, the media has reported on tho...</td>\n",
       "      <td>elections</td>\n",
       "      <td>john-rafferty</td>\n",
       "      <td>State Senator</td>\n",
       "      <td>Pennsylvania</td>\n",
       "      <td>republican</td>\n",
       "      <td>0.0</td>\n",
       "      <td>0.0</td>\n",
       "      <td>0.0</td>\n",
       "      <td>0.0</td>\n",
       "    </tr>\n",
       "    <tr>\n",
       "      <th>3045</th>\n",
       "      <td>8816.json</td>\n",
       "      <td>true</td>\n",
       "      <td>The national economic recovery has led to high...</td>\n",
       "      <td>state-budget,state-finances,states</td>\n",
       "      <td>state-democratic-party-wisconsin</td>\n",
       "      <td>NaN</td>\n",
       "      <td>Wisconsin</td>\n",
       "      <td>democrat</td>\n",
       "      <td>5.0</td>\n",
       "      <td>7.0</td>\n",
       "      <td>2.0</td>\n",
       "      <td>2.0</td>\n",
       "    </tr>\n",
       "    <tr>\n",
       "      <th>10087</th>\n",
       "      <td>10239.json</td>\n",
       "      <td>barely-true</td>\n",
       "      <td>Keystone XL allows Canada to pump their oil, s...</td>\n",
       "      <td>energy,gas-prices</td>\n",
       "      <td>barack-obama</td>\n",
       "      <td>President</td>\n",
       "      <td>Illinois</td>\n",
       "      <td>democrat</td>\n",
       "      <td>70.0</td>\n",
       "      <td>71.0</td>\n",
       "      <td>160.0</td>\n",
       "      <td>163.0</td>\n",
       "    </tr>\n",
       "    <tr>\n",
       "      <th>6519</th>\n",
       "      <td>10119.json</td>\n",
       "      <td>mostly-true</td>\n",
       "      <td>Says Jeanne Shaheen has voted with the preside...</td>\n",
       "      <td>bipartisanship</td>\n",
       "      <td>scott-brown</td>\n",
       "      <td>NaN</td>\n",
       "      <td>New Hampshire</td>\n",
       "      <td>republican</td>\n",
       "      <td>2.0</td>\n",
       "      <td>2.0</td>\n",
       "      <td>1.0</td>\n",
       "      <td>3.0</td>\n",
       "    </tr>\n",
       "    <tr>\n",
       "      <th>5868</th>\n",
       "      <td>11174.json</td>\n",
       "      <td>mostly-true</td>\n",
       "      <td>A majority of the candidates on this stage hav...</td>\n",
       "      <td>candidates-biography,immigration</td>\n",
       "      <td>ted-cruz</td>\n",
       "      <td>Senator</td>\n",
       "      <td>Texas</td>\n",
       "      <td>republican</td>\n",
       "      <td>36.0</td>\n",
       "      <td>33.0</td>\n",
       "      <td>15.0</td>\n",
       "      <td>19.0</td>\n",
       "    </tr>\n",
       "    <tr>\n",
       "      <th>4901</th>\n",
       "      <td>12675.json</td>\n",
       "      <td>half-true</td>\n",
       "      <td>Independent analysts say (Donald Trump) would ...</td>\n",
       "      <td>debt,deficit,economy</td>\n",
       "      <td>hillary-clinton</td>\n",
       "      <td>Presidential candidate</td>\n",
       "      <td>New York</td>\n",
       "      <td>democrat</td>\n",
       "      <td>40.0</td>\n",
       "      <td>29.0</td>\n",
       "      <td>69.0</td>\n",
       "      <td>76.0</td>\n",
       "    </tr>\n",
       "    <tr>\n",
       "      <th>728</th>\n",
       "      <td>8850.json</td>\n",
       "      <td>mostly-true</td>\n",
       "      <td>Nearly 90% of Travis County government races w...</td>\n",
       "      <td>county-government,elections</td>\n",
       "      <td>wayne-thorburn</td>\n",
       "      <td>NaN</td>\n",
       "      <td>NaN</td>\n",
       "      <td>republican</td>\n",
       "      <td>0.0</td>\n",
       "      <td>0.0</td>\n",
       "      <td>0.0</td>\n",
       "      <td>1.0</td>\n",
       "    </tr>\n",
       "    <tr>\n",
       "      <th>713</th>\n",
       "      <td>5590.json</td>\n",
       "      <td>false</td>\n",
       "      <td>Says the No. 2 cause of death in the U.S. (for...</td>\n",
       "      <td>crime,families,women</td>\n",
       "      <td>rod-monroe</td>\n",
       "      <td>State Senator</td>\n",
       "      <td>Oregon</td>\n",
       "      <td>democrat</td>\n",
       "      <td>0.0</td>\n",
       "      <td>2.0</td>\n",
       "      <td>0.0</td>\n",
       "      <td>0.0</td>\n",
       "    </tr>\n",
       "  </tbody>\n",
       "</table>\n",
       "</div>"
      ],
      "text/plain": [
       "             json        label  \\\n",
       "3504    4038.json        false   \n",
       "4756    5880.json         true   \n",
       "10227  13344.json   pants-fire   \n",
       "3045    8816.json         true   \n",
       "10087  10239.json  barely-true   \n",
       "6519   10119.json  mostly-true   \n",
       "5868   11174.json  mostly-true   \n",
       "4901   12675.json    half-true   \n",
       "728     8850.json  mostly-true   \n",
       "713     5590.json        false   \n",
       "\n",
       "                                                headline  \\\n",
       "3504   Georgias illegal immigration crackdown laws sh...   \n",
       "4756   Says Austin Mayor Lee Leffingwell voted for a ...   \n",
       "10227  Recently though, the media has reported on tho...   \n",
       "3045   The national economic recovery has led to high...   \n",
       "10087  Keystone XL allows Canada to pump their oil, s...   \n",
       "6519   Says Jeanne Shaheen has voted with the preside...   \n",
       "5868   A majority of the candidates on this stage hav...   \n",
       "4901   Independent analysts say (Donald Trump) would ...   \n",
       "728    Nearly 90% of Travis County government races w...   \n",
       "713    Says the No. 2 cause of death in the U.S. (for...   \n",
       "\n",
       "                                  subject                           speaker  \\\n",
       "3504                  history,immigration                      robert-brown   \n",
       "4756                       transportation                       brigid-shea   \n",
       "10227                           elections                     john-rafferty   \n",
       "3045   state-budget,state-finances,states  state-democratic-party-wisconsin   \n",
       "10087                   energy,gas-prices                      barack-obama   \n",
       "6519                       bipartisanship                       scott-brown   \n",
       "5868     candidates-biography,immigration                          ted-cruz   \n",
       "4901                 debt,deficit,economy                   hillary-clinton   \n",
       "728           county-government,elections                    wayne-thorburn   \n",
       "713                  crime,families,women                        rod-monroe   \n",
       "\n",
       "                       speaker_title     state_info party_affiliation  \\\n",
       "3504                   state senator        Georgia          democrat   \n",
       "4756   Principal, Carbon Shrinks LLC          Texas          democrat   \n",
       "10227                  State Senator   Pennsylvania        republican   \n",
       "3045                             NaN      Wisconsin          democrat   \n",
       "10087                      President       Illinois          democrat   \n",
       "6519                             NaN  New Hampshire        republican   \n",
       "5868                         Senator          Texas        republican   \n",
       "4901          Presidential candidate       New York          democrat   \n",
       "728                              NaN            NaN        republican   \n",
       "713                    State Senator         Oregon          democrat   \n",
       "\n",
       "       barely true counts  false counts  half true counts  mostly true counts  \n",
       "3504                  1.0           1.0               0.0                 0.0  \n",
       "4756                  0.0           0.0               1.0                 1.0  \n",
       "10227                 0.0           0.0               0.0                 0.0  \n",
       "3045                  5.0           7.0               2.0                 2.0  \n",
       "10087                70.0          71.0             160.0               163.0  \n",
       "6519                  2.0           2.0               1.0                 3.0  \n",
       "5868                 36.0          33.0              15.0                19.0  \n",
       "4901                 40.0          29.0              69.0                76.0  \n",
       "728                   0.0           0.0               0.0                 1.0  \n",
       "713                   0.0           2.0               0.0                 0.0  "
      ]
     },
     "execution_count": 3,
     "metadata": {},
     "output_type": "execute_result"
    }
   ],
   "source": [
    "# Import the train data\n",
    "# Define the path to the file\n",
    "file_path = './final_project_data/train.tsv'\n",
    "\n",
    "# Load the data\n",
    "train_data = pd.read_csv(file_path, delimiter='\\t', header = None)\n",
    "train_data = train_data.iloc[:, list(range(0,12))]\n",
    "# Change the column names\n",
    "train_data.columns = ['json', 'label', 'headline', 'subject', 'speaker', 'speaker_title', 'state_info', 'party_affiliation','barely true counts', 'false counts', 'half true counts','mostly true counts']\n",
    "# Report the number of sentences.\n",
    "print('Number of training sentences: {:,}\\n'.format(train_data.shape[0]))\n",
    "train_data.sample(10)"
   ]
  },
  {
   "cell_type": "code",
   "execution_count": 4,
   "id": "ce040962-8717-4b37-b2a9-9215e3d0a530",
   "metadata": {},
   "outputs": [],
   "source": [
    "# To clean the data, some of the headline include the json and other features.\n",
    "train_data = train_data[train_data['headline'].str.len() <= 256]"
   ]
  },
  {
   "cell_type": "code",
   "execution_count": 5,
   "id": "97aca701-56b4-46da-bd47-6dce2bdb5b43",
   "metadata": {},
   "outputs": [],
   "source": [
    "# Import the val data\n",
    "# Define the path to the file\n",
    "file_path = './final_project_data/valid.tsv'\n",
    "\n",
    "# Load the data\n",
    "val_data = pd.read_csv(file_path, delimiter='\\t', header = None)\n",
    "val_data = val_data.iloc[:, list(range(0,12))]\n",
    "# Change the column names\n",
    "val_data.columns = ['json', 'label', 'headline', 'subject', 'speaker', 'speaker_title', 'state_info', 'party_affiliation','barely true counts', 'false counts', 'half true counts','mostly true counts']\n"
   ]
  },
  {
   "cell_type": "code",
   "execution_count": 6,
   "id": "68a61ace-7755-45fb-a8ef-4d06f0510062",
   "metadata": {},
   "outputs": [],
   "source": [
    "file_path = './final_project_data/test.tsv'\n",
    "\n",
    "# Load the data\n",
    "test_data = pd.read_csv(file_path, delimiter='\\t', header = None)\n",
    "test_data = test_data.iloc[:, list(range(0,12))]\n",
    "# Change the column names\n",
    "test_data.columns = ['json', 'label', 'headline', 'subject', 'speaker', 'speaker_title', 'state_info', 'party_affiliation','barely true counts', 'false counts', 'half true counts','mostly true counts']\n"
   ]
  },
  {
   "cell_type": "code",
   "execution_count": 7,
   "id": "1112966b-cb1a-4e4d-abf9-06407cfc00a0",
   "metadata": {},
   "outputs": [],
   "source": [
    "# To clean the data, some of the headline include the json and other features.\n",
    "val_data = val_data[val_data['headline'].str.len() <= 256]"
   ]
  },
  {
   "cell_type": "code",
   "execution_count": 8,
   "id": "78cf92b2-34ff-43b6-94a1-f97140023543",
   "metadata": {},
   "outputs": [],
   "source": [
    "test_data = test_data[test_data['headline'].str.len() <= 256]"
   ]
  },
  {
   "cell_type": "code",
   "execution_count": 9,
   "id": "f62b860e-5df6-4add-9ef0-0809ade8cc86",
   "metadata": {},
   "outputs": [
    {
     "name": "stdout",
     "output_type": "stream",
     "text": [
      "['false' 'half-true' 'mostly-true' 'true' 'barely-true' 'pants-fire']\n"
     ]
    }
   ],
   "source": [
    "unique_labels = train_data.label.unique()\n",
    "\n",
    "print(unique_labels)"
   ]
  },
  {
   "cell_type": "code",
   "execution_count": 10,
   "id": "63c5307b-6469-4038-bc00-77045de629eb",
   "metadata": {},
   "outputs": [
    {
     "name": "stdout",
     "output_type": "stream",
     "text": [
      "['barely-true' 'pants-fire' 'false' 'half-true' 'true' 'mostly-true']\n"
     ]
    }
   ],
   "source": [
    "# Get the unique value of label\n",
    "unique_labels = val_data.label.unique()\n",
    "\n",
    "print(unique_labels)"
   ]
  },
  {
   "cell_type": "code",
   "execution_count": 11,
   "id": "b0041671-11ff-474f-9fce-f24c3e803efc",
   "metadata": {},
   "outputs": [
    {
     "name": "stdout",
     "output_type": "stream",
     "text": [
      "Number of training sentences: 10,184\n",
      "\n",
      "Number of training sentences: 1,278\n",
      "\n",
      "         json  label                                           headline  \\\n",
      "0   2635.json      0  Says the Annies List political group supports ...   \n",
      "1  10540.json      3  When did the decline of coal start? It started...   \n",
      "2    324.json      4  Hillary Clinton agrees with John McCain \"by vo...   \n",
      "3   1123.json      0  Health care reform legislation is likely to ma...   \n",
      "4   9028.json      3  The economic turnaround started at the end of ...   \n",
      "\n",
      "                              subject         speaker         speaker_title  \\\n",
      "0                            abortion    dwayne-bohac  State representative   \n",
      "1  energy,history,job-accomplishments  scott-surovell        State delegate   \n",
      "2                      foreign-policy    barack-obama             President   \n",
      "3                         health-care    blog-posting                   NaN   \n",
      "4                        economy,jobs   charlie-crist                   NaN   \n",
      "\n",
      "  state_info party_affiliation  barely true counts  false counts  \\\n",
      "0      Texas        republican                 0.0           1.0   \n",
      "1   Virginia          democrat                 0.0           0.0   \n",
      "2   Illinois          democrat                70.0          71.0   \n",
      "3        NaN              none                 7.0          19.0   \n",
      "4    Florida          democrat                15.0           9.0   \n",
      "\n",
      "   half true counts  mostly true counts  \n",
      "0               0.0                 0.0  \n",
      "1               1.0                 1.0  \n",
      "2             160.0               163.0  \n",
      "3               3.0                 5.0  \n",
      "4              20.0                19.0  \n"
     ]
    }
   ],
   "source": [
    "# Remove rows with 'pants-fire' label\n",
    "# train_data = train_data[train_data['label'] != 'pants-fire'].reset_index(drop = True).copy()\n",
    "# val_data = val_data[val_data['label'] != 'pants-fire'].reset_index(drop = True).copy()\n",
    "\n",
    "# Update 'pants-fire' labels to 'true' in the train_data DataFrame\n",
    "train_data.loc[train_data['label'] == 'pants-fire', 'label'] = 'false'\n",
    "\n",
    "# Update 'pants-fire' labels to 'true' in the val_data DataFrame\n",
    "val_data.loc[val_data['label'] == 'pants-fire', 'label'] = 'false'\n",
    "\n",
    "test_data.loc[test_data['label'] == 'pants-fire', 'label'] = 'false'\n",
    "\n",
    "# Reset the index and create a copy of the updated DataFrames\n",
    "train_data = train_data.reset_index(drop=True).copy()\n",
    "val_data = val_data.reset_index(drop=True).copy()\n",
    "test_data = test_data.reset_index(drop=True).copy()\n",
    "\n",
    "\n",
    "# Label value should be numerical\n",
    "label_mapping = {\n",
    "    'false': 0,\n",
    "    'true': 1,\n",
    "    'barely-true': 2,\n",
    "    'half-true': 3,\n",
    "    'mostly-true': 4\n",
    "}\n",
    "\n",
    "train_data['label'] = train_data['label'].map(label_mapping)\n",
    "val_data['label'] = val_data['label'].map(label_mapping)\n",
    "test_data['label'] = test_data['label'].map(label_mapping)\n",
    "# Report the number of sentences.\n",
    "print('Number of training sentences: {:,}\\n'.format(train_data.shape[0]))\n",
    "print('Number of training sentences: {:,}\\n'.format(val_data.shape[0]))\n",
    "print(train_data.head())"
   ]
  },
  {
   "cell_type": "markdown",
   "id": "722d6110-8ccb-4475-b607-8ca2da434665",
   "metadata": {},
   "source": [
    "## Tokenization"
   ]
  },
  {
   "cell_type": "code",
   "execution_count": 12,
   "id": "1688037f-07e2-4fae-b3b8-8bfe01352167",
   "metadata": {},
   "outputs": [],
   "source": [
    "# Get the lists of sentences and their labels.\n",
    "train_headline = train_data.headline.values\n",
    "train_labels = train_data.label.values\n",
    "\n",
    "test_headline = test_data.headline.values\n",
    "test_labels = test_data.label.values\n",
    "\n",
    "val_headline = val_data.headline.values\n",
    "val_labels = val_data.label.values"
   ]
  },
  {
   "cell_type": "code",
   "execution_count": 13,
   "id": "d55ce3af-a5f3-43a2-95d3-71f3175bb44b",
   "metadata": {},
   "outputs": [
    {
     "name": "stderr",
     "output_type": "stream",
     "text": [
      "/projectnb/cs505ws/students/seunghee/.conda/envs/cs505_1/lib/python3.9/site-packages/tqdm/auto.py:21: TqdmWarning: IProgress not found. Please update jupyter and ipywidgets. See https://ipywidgets.readthedocs.io/en/stable/user_install.html\n",
      "  from .autonotebook import tqdm as notebook_tqdm\n"
     ]
    },
    {
     "name": "stdout",
     "output_type": "stream",
     "text": [
      "Max sentence length for training set:  35\n",
      "Max sentence length for validation set:  20\n"
     ]
    }
   ],
   "source": [
    "from transformers import GPT2Tokenizer, GPT2LMHeadModel# AutoTokenizer, AutoModelForCausalLM\n",
    "\n",
    "tokenizer = GPT2Tokenizer.from_pretrained('gpt2')\n",
    "\n",
    "max_len = 0\n",
    "\n",
    "# For every headline...\n",
    "for sent in train_headline:\n",
    "\n",
    "    # Tokenize the text and add `[CLS]` and `[SEP]` tokens.\n",
    "    train_input_ids = tokenizer.encode(sent, add_special_tokens=True)\n",
    "\n",
    "    # Update the maximum sentence length.\n",
    "    train_max_len = max(max_len, len(train_input_ids))\n",
    "\n",
    "# For every headline...\n",
    "for sent in val_headline:\n",
    "\n",
    "    # Tokenize the text and add `[CLS]` and `[SEP]` tokens.\n",
    "    val_input_ids = tokenizer.encode(sent, add_special_tokens=True)\n",
    "\n",
    "    # Update the maximum sentence length.\n",
    "    val_max_len = max(max_len, len(val_input_ids))\n",
    "\n",
    "\n",
    "# For every headline...\n",
    "for sent in test_headline:\n",
    "\n",
    "    # Tokenize the text and add `[CLS]` and `[SEP]` tokens.\n",
    "    test_input_ids = tokenizer.encode(sent, add_special_tokens=True)\n",
    "\n",
    "    # Update the maximum sentence length.\n",
    "    test_max_len = max(max_len, len(test_input_ids))\n",
    "\n",
    "print('Max sentence length for training set: ', train_max_len)\n",
    "print('Max sentence length for validation set: ', val_max_len)"
   ]
  },
  {
   "cell_type": "code",
   "execution_count": 14,
   "id": "2a574ad8-5851-4c01-b124-8cc35251856e",
   "metadata": {},
   "outputs": [
    {
     "name": "stdout",
     "output_type": "stream",
     "text": [
      "The number of max_len > 512: '0'\n"
     ]
    }
   ],
   "source": [
    "num = 0\n",
    "for sent in train_headline:\n",
    "  if len(sent) >= 512:\n",
    "    num += 1\n",
    "    print(num, sent)\n",
    "\n",
    "print(f\"The number of max_len > 512: '{num}'\")"
   ]
  },
  {
   "cell_type": "code",
   "execution_count": 15,
   "id": "6950c832-330a-42a3-93f1-cfa53976601e",
   "metadata": {},
   "outputs": [
    {
     "name": "stderr",
     "output_type": "stream",
     "text": [
      "2023-12-22 16:51:54.607279: E external/local_xla/xla/stream_executor/cuda/cuda_dnn.cc:9261] Unable to register cuDNN factory: Attempting to register factory for plugin cuDNN when one has already been registered\n",
      "2023-12-22 16:51:54.607319: E external/local_xla/xla/stream_executor/cuda/cuda_fft.cc:607] Unable to register cuFFT factory: Attempting to register factory for plugin cuFFT when one has already been registered\n",
      "2023-12-22 16:51:54.608649: E external/local_xla/xla/stream_executor/cuda/cuda_blas.cc:1515] Unable to register cuBLAS factory: Attempting to register factory for plugin cuBLAS when one has already been registered\n",
      "2023-12-22 16:51:54.616442: I tensorflow/core/platform/cpu_feature_guard.cc:182] This TensorFlow binary is optimized to use available CPU instructions in performance-critical operations.\n",
      "To enable the following instructions: AVX2 FMA, in other operations, rebuild TensorFlow with the appropriate compiler flags.\n",
      "2023-12-22 16:51:56.673062: W tensorflow/compiler/tf2tensorrt/utils/py_utils.cc:38] TF-TRT Warning: Could not find TensorRT\n"
     ]
    },
    {
     "name": "stdout",
     "output_type": "stream",
     "text": [
      "Original:  Says the Annies List political group supports third-trimester abortions on demand. Subject: abortion. Speaker: dwayne-bohac. Speaker title: State representative.\n",
      "Token IDs: tensor([   50,   592,   262,  5506,   444,  7343,  1964,  1448,  6971,  2368,\n",
      "           12,  2213, 47484, 19985,   319,  3512,    13, 15540,    25,  7950,\n",
      "           13, 14931,    25,   288, 43932,    12,    65,  1219,   330,    13,\n",
      "        14931,  3670,    25,  1812,  8852,    13, 50256, 50256, 50256, 50256,\n",
      "        50256, 50256, 50256, 50256, 50256, 50256, 50256, 50256, 50256, 50256,\n",
      "        50256, 50256, 50256, 50256, 50256, 50256, 50256, 50256, 50256, 50256,\n",
      "        50256, 50256, 50256, 50256, 50256, 50256, 50256, 50256, 50256, 50256,\n",
      "        50256, 50256, 50256, 50256, 50256, 50256, 50256, 50256, 50256, 50256,\n",
      "        50256, 50256, 50256, 50256, 50256, 50256, 50256, 50256, 50256, 50256,\n",
      "        50256, 50256, 50256, 50256, 50256, 50256, 50256, 50256, 50256, 50256,\n",
      "        50256, 50256, 50256, 50256, 50256, 50256, 50256, 50256, 50256, 50256,\n",
      "        50256, 50256, 50256, 50256, 50256, 50256, 50256, 50256, 50256, 50256,\n",
      "        50256, 50256, 50256, 50256, 50256, 50256, 50256, 50256, 50256, 50256,\n",
      "        50256, 50256, 50256, 50256, 50256, 50256, 50256, 50256, 50256, 50256,\n",
      "        50256, 50256, 50256, 50256, 50256, 50256, 50256, 50256, 50256, 50256,\n",
      "        50256, 50256, 50256, 50256, 50256, 50256, 50256, 50256, 50256, 50256,\n",
      "        50256, 50256, 50256, 50256, 50256, 50256, 50256, 50256, 50256, 50256,\n",
      "        50256, 50256, 50256, 50256, 50256, 50256, 50256, 50256, 50256, 50256,\n",
      "        50256, 50256, 50256, 50256, 50256, 50256, 50256, 50256, 50256, 50256,\n",
      "        50256, 50256, 50256, 50256, 50256, 50256, 50256, 50256, 50256, 50256,\n",
      "        50256, 50256, 50256, 50256, 50256, 50256, 50256, 50256, 50256, 50256,\n",
      "        50256, 50256, 50256, 50256, 50256, 50256, 50256, 50256, 50256, 50256,\n",
      "        50256, 50256, 50256, 50256, 50256, 50256, 50256, 50256, 50256, 50256,\n",
      "        50256, 50256, 50256, 50256, 50256, 50256, 50256, 50256, 50256, 50256,\n",
      "        50256, 50256, 50256, 50256, 50256, 50256, 50256, 50256, 50256, 50256,\n",
      "        50256, 50256, 50256, 50256, 50256, 50256])\n"
     ]
    }
   ],
   "source": [
    "import torch\n",
    "from transformers import GPT2Tokenizer\n",
    "from transformers import DataCollatorForLanguageModeling\n",
    "\n",
    "# Load the GPT-2 tokenizer\n",
    "tokenizer = GPT2Tokenizer.from_pretrained('gpt2')\n",
    "tokenizer.pad_token = tokenizer.eos_token\n",
    "data_collator = DataCollatorForLanguageModeling(tokenizer=tokenizer, mlm=False)\n",
    "# Assuming train_headline is a list of sentences\n",
    "# Replace NaN values in 'subject' with 'Not Specified'\n",
    "train_data['subject'].fillna('Not Specified', inplace=True)\n",
    "\n",
    "# Replace NaN values in 'speaker' with 'Not Specified'\n",
    "train_data['speaker'].fillna('Not Specified', inplace=True)\n",
    "\n",
    "# Replace NaN values in 'speaker_title' with 'Not Specified'\n",
    "train_data['speaker_title'].fillna('Not Specified', inplace=True)\n",
    "\n",
    "# Concatenate the headline, subject, speaker and spearker_title\n",
    "train_data['headline_full'] = (train_data['headline'] + \n",
    "                               \" Subject: \" + train_data['subject'] + \".\" +\n",
    "                               \" Speaker: \" + train_data['speaker'] + \".\" +\n",
    "                               \" Speaker title: \" + train_data['speaker_title'] + \".\")\n",
    "\n",
    "train_headline_full = train_data.headline_full.values\n",
    "\n",
    "\n",
    "train_input_ids = []\n",
    "train_attention_masks = []\n",
    "\n",
    "# Tokenize each sentence\n",
    "for sent in train_headline_full:\n",
    "    encoded_dict = tokenizer.encode_plus(\n",
    "                        sent,                           # Sentence to encode\n",
    "                        max_length=256,                 # Pad & truncate all sentences\n",
    "                        padding='max_length',           # Pad to max_length\n",
    "                        return_attention_mask=True,     # Return attention mask\n",
    "                        return_tensors='pt',            # Return PyTorch tensors\n",
    "                        truncation=True\n",
    "                    )\n",
    "\n",
    "    train_input_ids.append(encoded_dict['input_ids'])\n",
    "    train_attention_masks.append(encoded_dict['attention_mask'])\n",
    "\n",
    "# Convert lists to tensors\n",
    "train_input_ids = torch.cat(train_input_ids, dim=0)\n",
    "train_attention_masks = torch.cat(train_attention_masks, dim=0)\n",
    "train_labels = torch.tensor(train_labels)  # Assuming train_labels is defined\n",
    "\n",
    "# Example output\n",
    "print('Original: ', train_headline_full[0])\n",
    "print('Token IDs:', train_input_ids[0])\n"
   ]
  },
  {
   "cell_type": "code",
   "execution_count": 22,
   "id": "40683f93-f7cc-41cc-9046-615c6b25238f",
   "metadata": {},
   "outputs": [
    {
     "name": "stderr",
     "output_type": "stream",
     "text": [
      "/projectnb/cs505ws/students/seunghee/.conda/envs/cs505_1/lib/python3.9/site-packages/transformers/tokenization_utils_base.py:2618: FutureWarning: The `pad_to_max_length` argument is deprecated and will be removed in a future version, use `padding=True` or `padding='longest'` to pad to the longest sequence in the batch, or use `padding='max_length'` to pad to a max length. In this case, you can give a specific length with `max_length` (e.g. `max_length=45`) or leave max_length to None to pad to the maximal input size of the model (e.g. 512 for Bert).\n",
      "  warnings.warn(\n"
     ]
    },
    {
     "name": "stdout",
     "output_type": "stream",
     "text": [
      "Original:  We have less Americans working now than in the 70s. Subject: economy,jobs. Speaker: vicky-hartzler. Speaker title: U.S. Representative.\n",
      "Token IDs: tensor([ 1135,   423,  1342,  3399,  1762,   783,   621,   287,   262,  4317,\n",
      "           82,    13, 15540,    25,  3773,    11, 43863,    13, 14931,    25,\n",
      "          410, 17479,    12,    71, 13636,  1754,    13, 14931,  3670,    25,\n",
      "          471,    13,    50,    13, 19920,    13, 50256, 50256, 50256, 50256,\n",
      "        50256, 50256, 50256, 50256, 50256, 50256, 50256, 50256, 50256, 50256,\n",
      "        50256, 50256, 50256, 50256, 50256, 50256, 50256, 50256, 50256, 50256,\n",
      "        50256, 50256, 50256, 50256, 50256, 50256, 50256, 50256, 50256, 50256,\n",
      "        50256, 50256, 50256, 50256, 50256, 50256, 50256, 50256, 50256, 50256,\n",
      "        50256, 50256, 50256, 50256, 50256, 50256, 50256, 50256, 50256, 50256,\n",
      "        50256, 50256, 50256, 50256, 50256, 50256, 50256, 50256, 50256, 50256,\n",
      "        50256, 50256, 50256, 50256, 50256, 50256, 50256, 50256, 50256, 50256,\n",
      "        50256, 50256, 50256, 50256, 50256, 50256, 50256, 50256, 50256, 50256,\n",
      "        50256, 50256, 50256, 50256, 50256, 50256, 50256, 50256, 50256, 50256,\n",
      "        50256, 50256, 50256, 50256, 50256, 50256, 50256, 50256, 50256, 50256,\n",
      "        50256, 50256, 50256, 50256, 50256, 50256, 50256, 50256, 50256, 50256,\n",
      "        50256, 50256, 50256, 50256, 50256, 50256, 50256, 50256, 50256, 50256,\n",
      "        50256, 50256, 50256, 50256, 50256, 50256, 50256, 50256, 50256, 50256,\n",
      "        50256, 50256, 50256, 50256, 50256, 50256, 50256, 50256, 50256, 50256,\n",
      "        50256, 50256, 50256, 50256, 50256, 50256, 50256, 50256, 50256, 50256,\n",
      "        50256, 50256, 50256, 50256, 50256, 50256, 50256, 50256, 50256, 50256,\n",
      "        50256, 50256, 50256, 50256, 50256, 50256, 50256, 50256, 50256, 50256,\n",
      "        50256, 50256, 50256, 50256, 50256, 50256, 50256, 50256, 50256, 50256,\n",
      "        50256, 50256, 50256, 50256, 50256, 50256, 50256, 50256, 50256, 50256,\n",
      "        50256, 50256, 50256, 50256, 50256, 50256, 50256, 50256, 50256, 50256,\n",
      "        50256, 50256, 50256, 50256, 50256, 50256, 50256, 50256, 50256, 50256,\n",
      "        50256, 50256, 50256, 50256, 50256, 50256])\n"
     ]
    }
   ],
   "source": [
    "# Tokenize all of the headline and map the tokens to thier word IDs.\n",
    "val_input_ids = []\n",
    "val_attention_masks = []\n",
    "\n",
    "val_data['subject'].fillna('Not Specified', inplace=True)\n",
    "val_data['speaker'].fillna('Not Specified', inplace=True)\n",
    "val_data['speaker_title'].fillna('Not Specified', inplace=True)\n",
    "val_data['headline_full'] = (val_data['headline'] + \n",
    "                               \" Subject: \" + val_data['subject'] + \".\" +\n",
    "                               \" Speaker: \" + val_data['speaker'] + \".\" +\n",
    "                               \" Speaker title: \" + val_data['speaker_title'] + \".\")\n",
    "val_headline_full = val_data.headline_full.values\n",
    "\n",
    "# For every sentence...\n",
    "for sent in val_headline_full:\n",
    "    # `encode_plus` will:\n",
    "    #   (1) Tokenize the sentence.\n",
    "    #   (2) Prepend the `[CLS]` token to the start.\n",
    "    #   (3) Append the `[SEP]` token to the end.\n",
    "    #   (4) Map tokens to their IDs.\n",
    "    #   (5) Pad or truncate the sentence to `max_length`\n",
    "    #   (6) Create attention masks for [PAD] tokens.\n",
    "    encoded_dict = tokenizer.encode_plus(\n",
    "                        sent,                      # Sentence to encode.\n",
    "                        add_special_tokens = True, # Add '[CLS]' and '[SEP]'\n",
    "                        max_length = 256,           # Pad & truncate all sentences.\n",
    "                        pad_to_max_length = True,\n",
    "                        return_attention_mask = True,   # Construct attn. masks.\n",
    "                        return_tensors = 'pt',     # Return pytorch tensors.\n",
    "                        truncation=True\n",
    "                   )\n",
    "\n",
    "    # Add the encoded sentence to the list.\n",
    "    val_input_ids.append(encoded_dict['input_ids'])\n",
    "\n",
    "    # And its attention mask (simply differentiates padding from non-padding).\n",
    "    val_attention_masks.append(encoded_dict['attention_mask'])\n",
    "\n",
    "# Convert the lists into tensors.\n",
    "val_input_ids = torch.cat(val_input_ids, dim=0)\n",
    "val_attention_masks = torch.cat(val_attention_masks, dim=0)\n",
    "val_labels = torch.tensor(val_labels)\n",
    "\n",
    "# Print sentence 0, now as a list of IDs.\n",
    "print('Original: ', val_headline_full[0])\n",
    "print('Token IDs:', val_input_ids[0])"
   ]
  },
  {
   "cell_type": "code",
   "execution_count": 16,
   "id": "e65c778d-5c90-4316-8cff-284d75311b62",
   "metadata": {},
   "outputs": [
    {
     "name": "stderr",
     "output_type": "stream",
     "text": [
      "/projectnb/cs505ws/students/seunghee/.conda/envs/cs505_1/lib/python3.9/site-packages/transformers/tokenization_utils_base.py:2618: FutureWarning: The `pad_to_max_length` argument is deprecated and will be removed in a future version, use `padding=True` or `padding='longest'` to pad to the longest sequence in the batch, or use `padding='max_length'` to pad to a max length. In this case, you can give a specific length with `max_length` (e.g. `max_length=45`) or leave max_length to None to pad to the maximal input size of the model (e.g. 512 for Bert).\n",
      "  warnings.warn(\n"
     ]
    },
    {
     "name": "stdout",
     "output_type": "stream",
     "text": [
      "Original:  Building a wall on the U.S.-Mexico border will take literally years. Subject: immigration. Speaker: rick-perry. Speaker title: Governor.\n",
      "Token IDs: tensor([25954,   257,  3355,   319,   262,   471,    13,    50,  7874, 33006,\n",
      "         4865,   481,  1011,  7360,   812,    13, 15540,    25,  6272,    13,\n",
      "        14931,    25,   374,   624,    12,   525,   563,    13, 14931,  3670,\n",
      "           25, 10807,    13, 50256, 50256, 50256, 50256, 50256, 50256, 50256,\n",
      "        50256, 50256, 50256, 50256, 50256, 50256, 50256, 50256, 50256, 50256,\n",
      "        50256, 50256, 50256, 50256, 50256, 50256, 50256, 50256, 50256, 50256,\n",
      "        50256, 50256, 50256, 50256, 50256, 50256, 50256, 50256, 50256, 50256,\n",
      "        50256, 50256, 50256, 50256, 50256, 50256, 50256, 50256, 50256, 50256,\n",
      "        50256, 50256, 50256, 50256, 50256, 50256, 50256, 50256, 50256, 50256,\n",
      "        50256, 50256, 50256, 50256, 50256, 50256, 50256, 50256, 50256, 50256,\n",
      "        50256, 50256, 50256, 50256, 50256, 50256, 50256, 50256, 50256, 50256,\n",
      "        50256, 50256, 50256, 50256, 50256, 50256, 50256, 50256, 50256, 50256,\n",
      "        50256, 50256, 50256, 50256, 50256, 50256, 50256, 50256, 50256, 50256,\n",
      "        50256, 50256, 50256, 50256, 50256, 50256, 50256, 50256, 50256, 50256,\n",
      "        50256, 50256, 50256, 50256, 50256, 50256, 50256, 50256, 50256, 50256,\n",
      "        50256, 50256, 50256, 50256, 50256, 50256, 50256, 50256, 50256, 50256,\n",
      "        50256, 50256, 50256, 50256, 50256, 50256, 50256, 50256, 50256, 50256,\n",
      "        50256, 50256, 50256, 50256, 50256, 50256, 50256, 50256, 50256, 50256,\n",
      "        50256, 50256, 50256, 50256, 50256, 50256, 50256, 50256, 50256, 50256,\n",
      "        50256, 50256, 50256, 50256, 50256, 50256, 50256, 50256, 50256, 50256,\n",
      "        50256, 50256, 50256, 50256, 50256, 50256, 50256, 50256, 50256, 50256,\n",
      "        50256, 50256, 50256, 50256, 50256, 50256, 50256, 50256, 50256, 50256,\n",
      "        50256, 50256, 50256, 50256, 50256, 50256, 50256, 50256, 50256, 50256,\n",
      "        50256, 50256, 50256, 50256, 50256, 50256, 50256, 50256, 50256, 50256,\n",
      "        50256, 50256, 50256, 50256, 50256, 50256, 50256, 50256, 50256, 50256,\n",
      "        50256, 50256, 50256, 50256, 50256, 50256])\n"
     ]
    }
   ],
   "source": [
    "# Tokenize all of the headline and map the tokens to thier word IDs.\n",
    "test_input_ids = []\n",
    "test_attention_masks = []\n",
    "\n",
    "test_data['subject'].fillna('Not Specified', inplace=True)\n",
    "test_data['speaker'].fillna('Not Specified', inplace=True)\n",
    "test_data['speaker_title'].fillna('Not Specified', inplace=True)\n",
    "test_data['headline_full'] = (test_data['headline'] + \n",
    "                               \" Subject: \" + test_data['subject'] + \".\" +\n",
    "                               \" Speaker: \" + test_data['speaker'] + \".\" +\n",
    "                               \" Speaker title: \" + test_data['speaker_title'] + \".\")\n",
    "test_headline_full = test_data.headline_full.values\n",
    "\n",
    "# For every sentence...\n",
    "for sent in test_headline_full:\n",
    "    # `encode_plus` will:\n",
    "    #   (1) Tokenize the sentence.\n",
    "    #   (2) Prepend the `[CLS]` token to the start.\n",
    "    #   (3) Append the `[SEP]` token to the end.\n",
    "    #   (4) Map tokens to their IDs.\n",
    "    #   (5) Pad or truncate the sentence to `max_length`\n",
    "    #   (6) Create attention masks for [PAD] tokens.\n",
    "    encoded_dict = tokenizer.encode_plus(\n",
    "                        sent,                      # Sentence to encode.\n",
    "                        add_special_tokens = True, # Add '[CLS]' and '[SEP]'\n",
    "                        max_length = 256,           # Pad & truncate all sentences.\n",
    "                        pad_to_max_length = True,\n",
    "                        return_attention_mask = True,   # Construct attn. masks.\n",
    "                        return_tensors = 'pt',     # Return pytorch tensors.\n",
    "                        truncation=True\n",
    "                   )\n",
    "\n",
    "    # Add the encoded sentence to the list.\n",
    "    test_input_ids.append(encoded_dict['input_ids'])\n",
    "\n",
    "    # And its attention mask (simply differentiates padding from non-padding).\n",
    "    test_attention_masks.append(encoded_dict['attention_mask'])\n",
    "\n",
    "# Convert the lists into tensors.\n",
    "test_input_ids = torch.cat(test_input_ids, dim=0)\n",
    "test_attention_masks = torch.cat(test_attention_masks, dim=0)\n",
    "test_labels = torch.tensor(test_labels)\n",
    "\n",
    "# Print sentence 0, now as a list of IDs.\n",
    "print('Original: ', test_headline_full[0])\n",
    "print('Token IDs:', test_input_ids[0])"
   ]
  },
  {
   "cell_type": "code",
   "execution_count": 15,
   "id": "3b392900-c195-455f-9085-036534cbc751",
   "metadata": {},
   "outputs": [
    {
     "data": {
      "text/plain": [
       "tensor([0, 3, 4,  ..., 3, 0, 0])"
      ]
     },
     "execution_count": 15,
     "metadata": {},
     "output_type": "execute_result"
    }
   ],
   "source": [
    "train_labels"
   ]
  },
  {
   "cell_type": "markdown",
   "id": "6381c180-5cae-4b3b-8f87-3a3fbdf50afc",
   "metadata": {},
   "source": [
    "## Train and Validation"
   ]
  },
  {
   "cell_type": "code",
   "execution_count": 23,
   "id": "9058c6ab-aef0-45c9-a2ed-eb3ec1074887",
   "metadata": {},
   "outputs": [
    {
     "name": "stderr",
     "output_type": "stream",
     "text": [
      "Some weights of GPT2ForSequenceClassification were not initialized from the model checkpoint at gpt2 and are newly initialized: ['score.weight']\n",
      "You should probably TRAIN this model on a down-stream task to be able to use it for predictions and inference.\n"
     ]
    }
   ],
   "source": [
    "from transformers import GPT2ForSequenceClassification, GPT2Tokenizer\n",
    "\n",
    "# Load the tokenizer\n",
    "tokenizer = GPT2Tokenizer.from_pretrained('gpt2')\n",
    "tokenizer.pad_token = tokenizer.eos_token  # GPT-2 uses the EOS token as padding\n",
    "\n",
    "# Load the model\n",
    "num_labels = 5  # Adjust this based on your task\n",
    "model = GPT2ForSequenceClassification.from_pretrained('gpt2', num_labels=num_labels).to(device)\n"
   ]
  },
  {
   "cell_type": "code",
   "execution_count": 24,
   "id": "9f7bcb24-8442-419c-8450-22f52ab258c9",
   "metadata": {},
   "outputs": [],
   "source": [
    "model.config.pad_token_id = tokenizer.pad_token_id"
   ]
  },
  {
   "cell_type": "code",
   "execution_count": 25,
   "id": "755130e1-6a9c-4e78-b2b0-4267643c98df",
   "metadata": {},
   "outputs": [
    {
     "name": "stdout",
     "output_type": "stream",
     "text": [
      "50256\n"
     ]
    }
   ],
   "source": [
    "print(model.config.pad_token_id)"
   ]
  },
  {
   "cell_type": "code",
   "execution_count": 26,
   "id": "53ad6c1c-0441-4619-aa07-441783cb262c",
   "metadata": {},
   "outputs": [],
   "source": [
    "from torch.utils.data import Dataset\n",
    "from torch.utils.data import DataLoader, RandomSampler, SequentialSampler\n",
    "\n",
    "class TextDataset(Dataset):\n",
    "    def __init__(self, input_ids, attention_masks, labels):\n",
    "        self.input_ids = input_ids\n",
    "        self.attention_masks = attention_masks\n",
    "        self.labels = labels\n",
    "\n",
    "    def __len__(self):\n",
    "        return len(self.input_ids)\n",
    "\n",
    "    def __getitem__(self, idx):\n",
    "        return {\n",
    "            'input_ids': self.input_ids[idx],\n",
    "            'attention_mask': self.attention_masks[idx],\n",
    "            'labels': self.labels[idx]\n",
    "        }\n"
   ]
  },
  {
   "cell_type": "code",
   "execution_count": 27,
   "id": "03edfb14-6840-42aa-9dea-64a1ebcf8285",
   "metadata": {},
   "outputs": [],
   "source": [
    "# Assuming train_input_ids, train_attention_masks, and train_labels are available\n",
    "# batch = next(iter(train_dataloader))\n",
    "\n",
    "train_dataset = TextDataset(train_input_ids, train_attention_masks, train_labels)\n",
    "train_dataloader = DataLoader(train_dataset, batch_size=16, shuffle=True)\n",
    "\n",
    "# Assuming train_input_ids, train_attention_masks, and train_labels are available\n",
    "val_dataset = TextDataset(val_input_ids, val_attention_masks, val_labels)\n",
    "validation_dataloader = DataLoader(val_dataset, batch_size=16, shuffle=True)\n",
    "\n",
    "test_dataset = TextDataset(test_input_ids, test_attention_masks, test_labels)\n",
    "test_dataloader = DataLoader(test_dataset, batch_size=16, shuffle=True)\n"
   ]
  },
  {
   "cell_type": "code",
   "execution_count": 28,
   "id": "dd628c89-722a-49ad-b361-61bed53a6829",
   "metadata": {},
   "outputs": [],
   "source": [
    "import numpy as np\n",
    "\n",
    "# Function to calculate the accuracy of our predictions vs labels\n",
    "def flat_accuracy(preds, labels):\n",
    "    pred_flat = np.argmax(preds, axis=1).flatten()\n",
    "    labels_flat = labels.flatten()\n",
    "    return np.sum(pred_flat == labels_flat) / len(labels_flat)"
   ]
  },
  {
   "cell_type": "code",
   "execution_count": 29,
   "id": "feff39a1-7b1d-4d41-ae72-c446f29c7053",
   "metadata": {},
   "outputs": [
    {
     "name": "stderr",
     "output_type": "stream",
     "text": [
      "/projectnb/cs505ws/students/seunghee/.conda/envs/cs505_1/lib/python3.9/site-packages/transformers/optimization.py:429: FutureWarning: This implementation of AdamW is deprecated and will be removed in a future version. Use the PyTorch implementation torch.optim.AdamW instead, or set `no_deprecation_warning=True` to disable this warning\n",
      "  warnings.warn(\n"
     ]
    }
   ],
   "source": [
    "from transformers import AdamW\n",
    "optimizer = AdamW(model.parameters(),\n",
    "                  lr = 2e-5, # args.learning_rate - default is 5e-5, our notebook had 2e-5\n",
    "                  eps = 1e-8 # args.adam_epsilon  - default is 1e-8.\n",
    "                )"
   ]
  },
  {
   "cell_type": "code",
   "execution_count": 30,
   "id": "56562a8a-eb31-4ce2-be29-c315d7327ea1",
   "metadata": {},
   "outputs": [
    {
     "name": "stderr",
     "output_type": "stream",
     "text": [
      "  0%|          | 0/4 [00:00<?, ?it/s]"
     ]
    },
    {
     "name": "stdout",
     "output_type": "stream",
     "text": [
      "\n",
      "======== Epoch 1 / 4 ========\n",
      "Training...\n",
      "\n",
      "Average training loss: 1.64\n",
      "\n",
      "Running Validation...\n"
     ]
    },
    {
     "name": "stderr",
     "output_type": "stream",
     "text": [
      " 25%|██▌       | 1/4 [05:16<15:49, 316.52s/it]"
     ]
    },
    {
     "name": "stdout",
     "output_type": "stream",
     "text": [
      "Validation Loss: 1.57\n",
      "Validation Accuracy: 0.30267857142857146\n",
      "\n",
      "======== Epoch 2 / 4 ========\n",
      "Training...\n",
      "\n",
      "Average training loss: 1.56\n",
      "\n",
      "Running Validation...\n"
     ]
    },
    {
     "name": "stderr",
     "output_type": "stream",
     "text": [
      " 50%|█████     | 2/4 [10:33<10:33, 316.55s/it]"
     ]
    },
    {
     "name": "stdout",
     "output_type": "stream",
     "text": [
      "Validation Loss: 1.51\n",
      "Validation Accuracy: 0.33515625\n",
      "\n",
      "======== Epoch 3 / 4 ========\n",
      "Training...\n",
      "\n",
      "Average training loss: 1.52\n",
      "\n",
      "Running Validation...\n"
     ]
    },
    {
     "name": "stderr",
     "output_type": "stream",
     "text": [
      " 75%|███████▌  | 3/4 [15:49<05:16, 316.71s/it]"
     ]
    },
    {
     "name": "stdout",
     "output_type": "stream",
     "text": [
      "Validation Loss: 1.51\n",
      "Validation Accuracy: 0.3410714285714286\n",
      "\n",
      "======== Epoch 4 / 4 ========\n",
      "Training...\n",
      "\n",
      "Average training loss: 1.48\n",
      "\n",
      "Running Validation...\n"
     ]
    },
    {
     "name": "stderr",
     "output_type": "stream",
     "text": [
      "100%|██████████| 4/4 [21:06<00:00, 316.74s/it]"
     ]
    },
    {
     "name": "stdout",
     "output_type": "stream",
     "text": [
      "Validation Loss: 1.47\n",
      "Validation Accuracy: 0.36529017857142854\n"
     ]
    },
    {
     "name": "stderr",
     "output_type": "stream",
     "text": [
      "\n"
     ]
    },
    {
     "name": "stdout",
     "output_type": "stream",
     "text": [
      "\n",
      "Training complete!\n"
     ]
    }
   ],
   "source": [
    "import random\n",
    "from tqdm import tqdm\n",
    "num_epochs = 4\n",
    "\n",
    "# Set the seed value all over the place to make this reproducible.\n",
    "seed_val = 42\n",
    "\n",
    "random.seed(seed_val)\n",
    "np.random.seed(seed_val)\n",
    "torch.manual_seed(seed_val)\n",
    "torch.cuda.manual_seed_all(seed_val)\n",
    "\n",
    "training_stats = []\n",
    "\n",
    "for epoch in tqdm(range(num_epochs)):\n",
    "    print(\"\")\n",
    "    print('======== Epoch {:} / {:} ========'.format(epoch + 1, num_epochs))\n",
    "    print('Training...')\n",
    "    model.train()\n",
    "    total_train_loss = 0\n",
    "    total_train_accuracy = 0\n",
    "    total_batches = 0\n",
    "    for batch in train_dataloader:\n",
    "        batch = {k: v.to(device) for k, v in batch.items()}\n",
    "\n",
    "        \n",
    "        # Forward pass\n",
    "        outputs = model(**batch)\n",
    "        loss = outputs.loss\n",
    "        logits = outputs.logits\n",
    "        # Backward pass\n",
    "        model.zero_grad()\n",
    "        loss.backward()\n",
    "        optimizer.step()\n",
    "        # Accumulate the training loss and accuracy\n",
    "        total_train_loss += loss.item()\n",
    "        # accuracy = compute_accuracy(logits, batch['labels'])\n",
    "        # total_accuracy += accuracy.item()\n",
    "        total_batches += 1\n",
    "\n",
    "    # Calculate the average loss and accuracy over the epoch\n",
    "    avg_train_loss = total_train_loss / len(train_dataloader)\n",
    "    # avg_train_accuracy = total_accuracy / len(train_dataloader)\n",
    "\n",
    "    print(\"\")\n",
    "    print(\"Average training loss: {0:.2f}\".format(avg_train_loss))\n",
    "\n",
    "    # print(f\"Average Training Loss: {avg_train_loss:.2f}, Average Training Accuracy: {avg_train_accuracy:.2f}\")\n",
    "\n",
    "    # ========================================\n",
    "    #               Validation\n",
    "    # ========================================\n",
    "    # After the completion of each training epoch, measure our performance on\n",
    "    # our validation set.\n",
    "\n",
    "    print(\"\")\n",
    "    print(\"Running Validation...\")\n",
    "\n",
    "    model.eval()\n",
    "    total_eval_accuracy = 0\n",
    "    total_eval_loss = 0\n",
    "    for batch in validation_dataloader:\n",
    "        batch = {k: v.to(device) for k, v in batch.items()}\n",
    "        with torch.no_grad():\n",
    "            outputs = model(**batch)\n",
    "            logits = outputs.logits\n",
    "    \n",
    "        loss = outputs.loss\n",
    "        total_eval_loss += loss.item()\n",
    "        logits = logits.detach().cpu().numpy()\n",
    "        label_ids = batch['labels'].to('cpu').numpy()\n",
    "        \n",
    "        #accuracy = compute_accuracy(logits, batch['labels'])\n",
    "        total_eval_accuracy += flat_accuracy(logits, label_ids)\n",
    "    \n",
    "        # Calculate the average loss over all of the batches.\n",
    "    avg_val_loss = total_eval_loss / len(validation_dataloader)\n",
    "    avg_val_accuracy = total_eval_accuracy / len(validation_dataloader)\n",
    "    print(\"Validation Loss: {0:.2f}\".format(avg_val_loss))\n",
    "    print(f\"Validation Accuracy: {avg_val_accuracy}\")\n",
    "\n",
    "        # Record all statistics from this epoch.\n",
    "    training_stats.append(\n",
    "        {\n",
    "            'epoch': epoch + 1,\n",
    "            'Training Loss': avg_train_loss,\n",
    "            'Valid. Loss': avg_val_loss,\n",
    "            'Valid. Accur.': avg_val_accuracy,\n",
    "            # 'Training Time': training_time,\n",
    "            # 'Validation Time': validation_time\n",
    "        }\n",
    "    )\n",
    "\n",
    "torch.save(model, 'model.pth')\n",
    "\n",
    "print(\"\")\n",
    "print(\"Training complete!\")\n",
    "\n",
    "\n"
   ]
  },
  {
   "cell_type": "code",
   "execution_count": 31,
   "id": "c8232aef-9326-480d-83f9-e72440a53763",
   "metadata": {},
   "outputs": [
    {
     "data": {
      "text/html": [
       "<div>\n",
       "<style scoped>\n",
       "    .dataframe tbody tr th:only-of-type {\n",
       "        vertical-align: middle;\n",
       "    }\n",
       "\n",
       "    .dataframe tbody tr th {\n",
       "        vertical-align: top;\n",
       "    }\n",
       "\n",
       "    .dataframe thead th {\n",
       "        text-align: right;\n",
       "    }\n",
       "</style>\n",
       "<table border=\"1\" class=\"dataframe\">\n",
       "  <thead>\n",
       "    <tr style=\"text-align: right;\">\n",
       "      <th></th>\n",
       "      <th>Training Loss</th>\n",
       "      <th>Valid. Loss</th>\n",
       "      <th>Valid. Accur.</th>\n",
       "    </tr>\n",
       "    <tr>\n",
       "      <th>epoch</th>\n",
       "      <th></th>\n",
       "      <th></th>\n",
       "      <th></th>\n",
       "    </tr>\n",
       "  </thead>\n",
       "  <tbody>\n",
       "    <tr>\n",
       "      <th>1</th>\n",
       "      <td>1.64</td>\n",
       "      <td>1.57</td>\n",
       "      <td>0.30</td>\n",
       "    </tr>\n",
       "    <tr>\n",
       "      <th>2</th>\n",
       "      <td>1.56</td>\n",
       "      <td>1.51</td>\n",
       "      <td>0.34</td>\n",
       "    </tr>\n",
       "    <tr>\n",
       "      <th>3</th>\n",
       "      <td>1.52</td>\n",
       "      <td>1.51</td>\n",
       "      <td>0.34</td>\n",
       "    </tr>\n",
       "    <tr>\n",
       "      <th>4</th>\n",
       "      <td>1.48</td>\n",
       "      <td>1.47</td>\n",
       "      <td>0.37</td>\n",
       "    </tr>\n",
       "  </tbody>\n",
       "</table>\n",
       "</div>"
      ],
      "text/plain": [
       "       Training Loss  Valid. Loss  Valid. Accur.\n",
       "epoch                                           \n",
       "1               1.64         1.57           0.30\n",
       "2               1.56         1.51           0.34\n",
       "3               1.52         1.51           0.34\n",
       "4               1.48         1.47           0.37"
      ]
     },
     "execution_count": 31,
     "metadata": {},
     "output_type": "execute_result"
    }
   ],
   "source": [
    "import pandas as pd\n",
    "\n",
    "# Display floats with two decimal places.\n",
    "pd.set_option('display.precision', 2)\n",
    "\n",
    "# Create a DataFrame from our training statistics.\n",
    "df_stats = pd.DataFrame(data=training_stats)\n",
    "\n",
    "# Use the 'epoch' as the row index.\n",
    "df_stats = df_stats.set_index('epoch')\n",
    "\n",
    "# A hack to force the column headers to wrap.\n",
    "#df = df.style.set_table_styles([dict(selector=\"th\",props=[('max-width', '70px')])])\n",
    "\n",
    "# Display the table.\n",
    "df_stats"
   ]
  },
  {
   "cell_type": "code",
   "execution_count": 32,
   "id": "a86b31e1-4e5a-4970-b9c9-08123f25f160",
   "metadata": {},
   "outputs": [
    {
     "data": {
      "image/png": "[encoded data removed]",
      "text/plain": [
       "<Figure size 1200x600 with 1 Axes>"
      ]
     },
     "metadata": {},
     "output_type": "display_data"
    }
   ],
   "source": [
    "import matplotlib.pyplot as plt\n",
    "#% matplotlib inline\n",
    "\n",
    "import seaborn as sns\n",
    "\n",
    "# Use plot styling from seaborn.\n",
    "sns.set(style='darkgrid')\n",
    "\n",
    "# Increase the plot size and font size.\n",
    "sns.set(font_scale=1.5)\n",
    "plt.rcParams[\"figure.figsize\"] = (12,6)\n",
    "\n",
    "# Plot the learning curve.\n",
    "plt.plot(df_stats['Training Loss'], 'b-o', label=\"Training\")\n",
    "plt.plot(df_stats['Valid. Loss'], 'g-o', label=\"Validation\")\n",
    "\n",
    "# Label the plot.\n",
    "plt.title(\"Training & Validation Loss with Headline + Subject + Speaker + Speaker_Title No SEP Token\")\n",
    "plt.xlabel(\"Epoch\")\n",
    "plt.ylabel(\"Loss\")\n",
    "plt.legend()\n",
    "plt.xticks([1, 2, 3, 4])\n",
    "\n",
    "plt.show()"
   ]
  },
  {
   "cell_type": "code",
   "execution_count": 33,
   "id": "e19bdce2-46db-422a-9b34-5a74efad0efb",
   "metadata": {},
   "outputs": [
    {
     "name": "stdout",
     "output_type": "stream",
     "text": [
      "Predicting labels for 1,260 test sentences...\n",
      "    DONE.\n"
     ]
    }
   ],
   "source": [
    "# Prediction on test set\n",
    "\n",
    "print('Predicting labels for {:,} test sentences...'.format(len(test_input_ids)))\n",
    "\n",
    "# Put model in evaluation mode\n",
    "model.eval()\n",
    "\n",
    "# Tracking variables\n",
    "predictions , true_labels = [], []\n",
    "\n",
    "# Predict\n",
    "for batch in test_dataloader:\n",
    "  # Add batch to GPU\n",
    "    \n",
    "  batch = {k: v.to(device) for k, v in batch.items()}\n",
    "\n",
    "  # Unpack the inputs from our dataloader\n",
    "  b_input_ids = batch['input_ids']\n",
    "  b_input_mask = batch['attention_mask']\n",
    "  b_labels = batch['labels']  # or 'label' depending on how your dataloader is set up\n",
    "\n",
    "  # Telling the model not to compute or store gradients, saving memory and\n",
    "  # speeding up prediction\n",
    "  with torch.no_grad():\n",
    "      # Forward pass, calculate logit predictions.\n",
    "      result = model(b_input_ids,\n",
    "                     token_type_ids=None,\n",
    "                     attention_mask=b_input_mask,\n",
    "                     return_dict=True)\n",
    "\n",
    "  logits = result.logits\n",
    "\n",
    "  # Move logits and labels to CPU\n",
    "  logits = logits.detach().cpu().numpy()\n",
    "  label_ids = b_labels.to('cpu').numpy()\n",
    "\n",
    "  # Store predictions and true labels\n",
    "  predictions.append(logits)\n",
    "  true_labels.append(label_ids)\n",
    "\n",
    "print('    DONE.')"
   ]
  },
  {
   "cell_type": "code",
   "execution_count": 34,
   "id": "67b8e5a7-511a-4d4b-b4da-15c561f53f1c",
   "metadata": {},
   "outputs": [],
   "source": [
    "import torch\n",
    "import torch.nn.functional as F\n",
    "import numpy as np\n",
    "\n",
    "# Convert logits to class labels\n",
    "y_pred = [np.argmax(F.softmax(torch.from_numpy(batch_logits), dim=1).numpy(), axis=1) for batch_logits in predictions]\n",
    "y_pred = np.concatenate(y_pred, axis=0)"
   ]
  },
  {
   "cell_type": "code",
   "execution_count": 35,
   "id": "ad48b5e0-b568-47fe-8d28-2dfba256f7df",
   "metadata": {},
   "outputs": [
    {
     "name": "stdout",
     "output_type": "stream",
     "text": [
      "Accuracy of Class 0: 0.3812316715542522\n",
      "Accuracy of Class 1: 0.0825242718446602\n",
      "Accuracy of Class 2: 0.03317535545023697\n",
      "Accuracy of Class 3: 0.2413793103448276\n",
      "Accuracy of Class 4: 0.2697095435684647\n",
      "Overall Accuracy: 0.22380952380952382\n"
     ]
    }
   ],
   "source": [
    "from sklearn.metrics import confusion_matrix, accuracy_score\n",
    "\n",
    "y_true = test_labels\n",
    "# Compute the confusion matrix\n",
    "cm = confusion_matrix(y_true, y_pred)\n",
    "\n",
    "# Calculate accuracy for each class\n",
    "class_accuracies = cm.diagonal() / cm.sum(axis=1)\n",
    "\n",
    "for i, acc in enumerate(class_accuracies):\n",
    "    print(f\"Accuracy of Class {i}: {acc}\")\n",
    "\n",
    "# Calculate overall accuracy\n",
    "overall_accuracy = accuracy_score(y_true, y_pred)\n",
    "print(f\"Overall Accuracy: {overall_accuracy}\")"
   ]
  },
  {
   "cell_type": "code",
   "execution_count": null,
   "id": "2538cfc7-fc70-4a57-bf16-db423352abb3",
   "metadata": {},
   "outputs": [],
   "source": []
  }
 ],
 "metadata": {
  "kernelspec": {
   "display_name": "Python 3 (ipykernel)",
   "language": "python",
   "name": "python3"
  },
  "language_info": {
   "codemirror_mode": {
    "name": "ipython",
    "version": 3
   },
   "file_extension": ".py",
   "mimetype": "text/x-python",
   "name": "python",
   "nbconvert_exporter": "python",
   "pygments_lexer": "ipython3",
   "version": "3.9.18"
  }
 },
 "nbformat": 4,
 "nbformat_minor": 5
}
